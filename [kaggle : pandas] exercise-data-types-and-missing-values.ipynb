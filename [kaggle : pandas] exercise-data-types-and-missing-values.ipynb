{
 "cells": [
  {
   "cell_type": "markdown",
   "id": "b4ef0384",
   "metadata": {
    "papermill": {
     "duration": 0.005228,
     "end_time": "2024-02-21T06:35:01.258902",
     "exception": false,
     "start_time": "2024-02-21T06:35:01.253674",
     "status": "completed"
    },
    "tags": []
   },
   "source": [
    "**This notebook is an exercise in the [Pandas](https://www.kaggle.com/learn/pandas) course.  You can reference the tutorial at [this link](https://www.kaggle.com/residentmario/data-types-and-missing-values).**\n",
    "\n",
    "---\n"
   ]
  },
  {
   "cell_type": "markdown",
   "id": "b1721511",
   "metadata": {
    "papermill": {
     "duration": 0.004346,
     "end_time": "2024-02-21T06:35:01.268299",
     "exception": false,
     "start_time": "2024-02-21T06:35:01.263953",
     "status": "completed"
    },
    "tags": []
   },
   "source": [
    "# Introduction\n",
    "\n",
    "Run the following cell to load your data and some utility functions."
   ]
  },
  {
   "cell_type": "code",
   "execution_count": 1,
   "id": "0a1aef65",
   "metadata": {
    "execution": {
     "iopub.execute_input": "2024-02-21T06:35:01.280071Z",
     "iopub.status.busy": "2024-02-21T06:35:01.279399Z",
     "iopub.status.idle": "2024-02-21T06:35:05.560633Z",
     "shell.execute_reply": "2024-02-21T06:35:05.559522Z"
    },
    "papermill": {
     "duration": 4.290562,
     "end_time": "2024-02-21T06:35:05.563669",
     "exception": false,
     "start_time": "2024-02-21T06:35:01.273107",
     "status": "completed"
    },
    "tags": []
   },
   "outputs": [
    {
     "name": "stdout",
     "output_type": "stream",
     "text": [
      "Setup complete.\n"
     ]
    }
   ],
   "source": [
    "import pandas as pd\n",
    "\n",
    "reviews = pd.read_csv(\"../input/wine-reviews/winemag-data-130k-v2.csv\", index_col=0)\n",
    "\n",
    "from learntools.core import binder; binder.bind(globals())\n",
    "from learntools.pandas.data_types_and_missing_data import *\n",
    "print(\"Setup complete.\")"
   ]
  },
  {
   "cell_type": "markdown",
   "id": "3d94d80f",
   "metadata": {
    "papermill": {
     "duration": 0.004619,
     "end_time": "2024-02-21T06:35:05.573376",
     "exception": false,
     "start_time": "2024-02-21T06:35:05.568757",
     "status": "completed"
    },
    "tags": []
   },
   "source": [
    "# Exercises"
   ]
  },
  {
   "cell_type": "markdown",
   "id": "3024f38c",
   "metadata": {
    "papermill": {
     "duration": 0.004615,
     "end_time": "2024-02-21T06:35:05.582882",
     "exception": false,
     "start_time": "2024-02-21T06:35:05.578267",
     "status": "completed"
    },
    "tags": []
   },
   "source": [
    "## 1. \n",
    "What is the data type of the `points` column in the dataset?"
   ]
  },
  {
   "cell_type": "code",
   "execution_count": 2,
   "id": "c9697e80",
   "metadata": {
    "execution": {
     "iopub.execute_input": "2024-02-21T06:35:05.595229Z",
     "iopub.status.busy": "2024-02-21T06:35:05.594167Z",
     "iopub.status.idle": "2024-02-21T06:35:05.605240Z",
     "shell.execute_reply": "2024-02-21T06:35:05.603767Z"
    },
    "papermill": {
     "duration": 0.020727,
     "end_time": "2024-02-21T06:35:05.608523",
     "exception": false,
     "start_time": "2024-02-21T06:35:05.587796",
     "status": "completed"
    },
    "tags": []
   },
   "outputs": [
    {
     "data": {
      "application/javascript": [
       "parent.postMessage({\"jupyterEvent\": \"custom.exercise_interaction\", \"data\": {\"outcomeType\": 1, \"valueTowardsCompletion\": 0.25, \"interactionType\": 1, \"questionType\": 1, \"questionId\": \"1_PointsDtype\", \"learnToolsVersion\": \"0.3.4\", \"failureMessage\": \"\", \"exceptionClass\": \"\", \"trace\": \"\"}}, \"*\")"
      ],
      "text/plain": [
       "<IPython.core.display.Javascript object>"
      ]
     },
     "metadata": {},
     "output_type": "display_data"
    },
    {
     "data": {
      "text/markdown": [
       "<span style=\"color:#33cc33\">Correct</span>"
      ],
      "text/plain": [
       "Correct"
      ]
     },
     "metadata": {},
     "output_type": "display_data"
    }
   ],
   "source": [
    "# Your code here\n",
    "dtype = reviews.points.dtype\n",
    "\n",
    "# Check your answer\n",
    "q1.check()"
   ]
  },
  {
   "cell_type": "code",
   "execution_count": 3,
   "id": "701e6104",
   "metadata": {
    "execution": {
     "iopub.execute_input": "2024-02-21T06:35:05.621776Z",
     "iopub.status.busy": "2024-02-21T06:35:05.621375Z",
     "iopub.status.idle": "2024-02-21T06:35:05.626066Z",
     "shell.execute_reply": "2024-02-21T06:35:05.624800Z"
    },
    "papermill": {
     "duration": 0.014026,
     "end_time": "2024-02-21T06:35:05.628402",
     "exception": false,
     "start_time": "2024-02-21T06:35:05.614376",
     "status": "completed"
    },
    "tags": []
   },
   "outputs": [],
   "source": [
    "#q1.hint()\n",
    "#q1.solution()"
   ]
  },
  {
   "cell_type": "markdown",
   "id": "5c2e2c86",
   "metadata": {
    "papermill": {
     "duration": 0.00495,
     "end_time": "2024-02-21T06:35:05.638683",
     "exception": false,
     "start_time": "2024-02-21T06:35:05.633733",
     "status": "completed"
    },
    "tags": []
   },
   "source": [
    "## 2. \n",
    "Create a Series from entries in the `points` column, but convert the entries to strings. Hint: strings are `str` in native Python."
   ]
  },
  {
   "cell_type": "code",
   "execution_count": 4,
   "id": "c7b728d6",
   "metadata": {
    "execution": {
     "iopub.execute_input": "2024-02-21T06:35:05.651077Z",
     "iopub.status.busy": "2024-02-21T06:35:05.650421Z",
     "iopub.status.idle": "2024-02-21T06:35:05.696543Z",
     "shell.execute_reply": "2024-02-21T06:35:05.695242Z"
    },
    "papermill": {
     "duration": 0.05591,
     "end_time": "2024-02-21T06:35:05.699816",
     "exception": false,
     "start_time": "2024-02-21T06:35:05.643906",
     "status": "completed"
    },
    "tags": []
   },
   "outputs": [
    {
     "data": {
      "application/javascript": [
       "parent.postMessage({\"jupyterEvent\": \"custom.exercise_interaction\", \"data\": {\"outcomeType\": 1, \"valueTowardsCompletion\": 0.25, \"interactionType\": 1, \"questionType\": 1, \"questionId\": \"2_StrPoints\", \"learnToolsVersion\": \"0.3.4\", \"failureMessage\": \"\", \"exceptionClass\": \"\", \"trace\": \"\"}}, \"*\")"
      ],
      "text/plain": [
       "<IPython.core.display.Javascript object>"
      ]
     },
     "metadata": {},
     "output_type": "display_data"
    },
    {
     "data": {
      "text/markdown": [
       "<span style=\"color:#33cc33\">Correct</span>"
      ],
      "text/plain": [
       "Correct"
      ]
     },
     "metadata": {},
     "output_type": "display_data"
    }
   ],
   "source": [
    "point_strings = reviews.points.astype(str)\n",
    "\n",
    "# Check your answer\n",
    "q2.check()"
   ]
  },
  {
   "cell_type": "code",
   "execution_count": 5,
   "id": "6827f52a",
   "metadata": {
    "execution": {
     "iopub.execute_input": "2024-02-21T06:35:05.714717Z",
     "iopub.status.busy": "2024-02-21T06:35:05.714111Z",
     "iopub.status.idle": "2024-02-21T06:35:05.719698Z",
     "shell.execute_reply": "2024-02-21T06:35:05.718355Z"
    },
    "papermill": {
     "duration": 0.016637,
     "end_time": "2024-02-21T06:35:05.722121",
     "exception": false,
     "start_time": "2024-02-21T06:35:05.705484",
     "status": "completed"
    },
    "tags": []
   },
   "outputs": [],
   "source": [
    "#q2.hint()\n",
    "#q2.solution()"
   ]
  },
  {
   "cell_type": "markdown",
   "id": "e65f00e2",
   "metadata": {
    "papermill": {
     "duration": 0.00504,
     "end_time": "2024-02-21T06:35:05.732710",
     "exception": false,
     "start_time": "2024-02-21T06:35:05.727670",
     "status": "completed"
    },
    "tags": []
   },
   "source": [
    "## 3.\n",
    "Sometimes the price column is null. How many reviews in the dataset are missing a price?"
   ]
  },
  {
   "cell_type": "code",
   "execution_count": 6,
   "id": "40defd7b",
   "metadata": {
    "execution": {
     "iopub.execute_input": "2024-02-21T06:35:05.745687Z",
     "iopub.status.busy": "2024-02-21T06:35:05.745070Z",
     "iopub.status.idle": "2024-02-21T06:35:05.764201Z",
     "shell.execute_reply": "2024-02-21T06:35:05.763066Z"
    },
    "papermill": {
     "duration": 0.028642,
     "end_time": "2024-02-21T06:35:05.766733",
     "exception": false,
     "start_time": "2024-02-21T06:35:05.738091",
     "status": "completed"
    },
    "tags": []
   },
   "outputs": [
    {
     "data": {
      "application/javascript": [
       "parent.postMessage({\"jupyterEvent\": \"custom.exercise_interaction\", \"data\": {\"outcomeType\": 1, \"valueTowardsCompletion\": 0.25, \"interactionType\": 1, \"questionType\": 1, \"questionId\": \"3_CountMissingPrices\", \"learnToolsVersion\": \"0.3.4\", \"failureMessage\": \"\", \"exceptionClass\": \"\", \"trace\": \"\"}}, \"*\")"
      ],
      "text/plain": [
       "<IPython.core.display.Javascript object>"
      ]
     },
     "metadata": {},
     "output_type": "display_data"
    },
    {
     "data": {
      "text/markdown": [
       "<span style=\"color:#33cc33\">Correct</span>"
      ],
      "text/plain": [
       "Correct"
      ]
     },
     "metadata": {},
     "output_type": "display_data"
    }
   ],
   "source": [
    "missing_price_reviews = reviews[reviews.price.isnull()]\n",
    "n_missing_prices = len(missing_price_reviews)\n",
    "# Cute alternative solution: if we sum a boolean series, True is treated as 1 and False as 0\n",
    "n_missing_prices = reviews.price.isnull().sum()\n",
    "# or equivalently:\n",
    "n_missing_prices = pd.isnull(reviews.price).sum()\n",
    "# Check your answer\n",
    "q3.check()"
   ]
  },
  {
   "cell_type": "code",
   "execution_count": 7,
   "id": "8b1f1e13",
   "metadata": {
    "execution": {
     "iopub.execute_input": "2024-02-21T06:35:05.780089Z",
     "iopub.status.busy": "2024-02-21T06:35:05.779657Z",
     "iopub.status.idle": "2024-02-21T06:35:05.787161Z",
     "shell.execute_reply": "2024-02-21T06:35:05.786163Z"
    },
    "papermill": {
     "duration": 0.017307,
     "end_time": "2024-02-21T06:35:05.789482",
     "exception": false,
     "start_time": "2024-02-21T06:35:05.772175",
     "status": "completed"
    },
    "tags": []
   },
   "outputs": [
    {
     "data": {
      "application/javascript": [
       "parent.postMessage({\"jupyterEvent\": \"custom.exercise_interaction\", \"data\": {\"interactionType\": 3, \"questionType\": 1, \"questionId\": \"3_CountMissingPrices\", \"learnToolsVersion\": \"0.3.4\", \"valueTowardsCompletion\": 0.0, \"failureMessage\": \"\", \"exceptionClass\": \"\", \"trace\": \"\", \"outcomeType\": 4}}, \"*\")"
      ],
      "text/plain": [
       "<IPython.core.display.Javascript object>"
      ]
     },
     "metadata": {},
     "output_type": "display_data"
    },
    {
     "data": {
      "text/markdown": [
       "<span style=\"color:#33cc99\">Solution:</span> \n",
       "```python\n",
       "missing_price_reviews = reviews[reviews.price.isnull()]\n",
       "n_missing_prices = len(missing_price_reviews)\n",
       "# Cute alternative solution: if we sum a boolean series, True is treated as 1 and False as 0\n",
       "n_missing_prices = reviews.price.isnull().sum()\n",
       "# or equivalently:\n",
       "n_missing_prices = pd.isnull(reviews.price).sum()\n",
       "\n",
       "```"
      ],
      "text/plain": [
       "Solution: \n",
       "```python\n",
       "missing_price_reviews = reviews[reviews.price.isnull()]\n",
       "n_missing_prices = len(missing_price_reviews)\n",
       "# Cute alternative solution: if we sum a boolean series, True is treated as 1 and False as 0\n",
       "n_missing_prices = reviews.price.isnull().sum()\n",
       "# or equivalently:\n",
       "n_missing_prices = pd.isnull(reviews.price).sum()\n",
       "\n",
       "```"
      ]
     },
     "metadata": {},
     "output_type": "display_data"
    }
   ],
   "source": [
    "#q3.hint()\n",
    "q3.solution()"
   ]
  },
  {
   "cell_type": "markdown",
   "id": "9b529cf0",
   "metadata": {
    "papermill": {
     "duration": 0.007539,
     "end_time": "2024-02-21T06:35:05.803099",
     "exception": false,
     "start_time": "2024-02-21T06:35:05.795560",
     "status": "completed"
    },
    "tags": []
   },
   "source": [
    "## 4.\n",
    "What are the most common wine-producing regions? Create a Series counting the number of times each value occurs in the `region_1` field. This field is often missing data, so replace missing values with `Unknown`. Sort in descending order.  Your output should look something like this:\n",
    "\n",
    "```\n",
    "Unknown                    21247\n",
    "Napa Valley                 4480\n",
    "                           ...  \n",
    "Bardolino Superiore            1\n",
    "Primitivo del Tarantino        1\n",
    "Name: region_1, Length: 1230, dtype: int64\n",
    "```"
   ]
  },
  {
   "cell_type": "code",
   "execution_count": 8,
   "id": "d5f6d7f6",
   "metadata": {
    "execution": {
     "iopub.execute_input": "2024-02-21T06:35:05.819251Z",
     "iopub.status.busy": "2024-02-21T06:35:05.818802Z",
     "iopub.status.idle": "2024-02-21T06:35:05.872947Z",
     "shell.execute_reply": "2024-02-21T06:35:05.871842Z"
    },
    "papermill": {
     "duration": 0.064488,
     "end_time": "2024-02-21T06:35:05.875825",
     "exception": false,
     "start_time": "2024-02-21T06:35:05.811337",
     "status": "completed"
    },
    "tags": []
   },
   "outputs": [
    {
     "data": {
      "application/javascript": [
       "parent.postMessage({\"jupyterEvent\": \"custom.exercise_interaction\", \"data\": {\"outcomeType\": 1, \"valueTowardsCompletion\": 0.25, \"interactionType\": 1, \"questionType\": 2, \"questionId\": \"4_ReviewsPerRegion\", \"learnToolsVersion\": \"0.3.4\", \"failureMessage\": \"\", \"exceptionClass\": \"\", \"trace\": \"\"}}, \"*\")"
      ],
      "text/plain": [
       "<IPython.core.display.Javascript object>"
      ]
     },
     "metadata": {},
     "output_type": "display_data"
    },
    {
     "data": {
      "text/markdown": [
       "<span style=\"color:#33cc33\">Correct</span>"
      ],
      "text/plain": [
       "Correct"
      ]
     },
     "metadata": {},
     "output_type": "display_data"
    }
   ],
   "source": [
    "reviews_per_region = reviews.region_1.fillna('Unknown').value_counts().sort_values(ascending=False)\n",
    "\n",
    "# Check your answer\n",
    "q4.check()"
   ]
  },
  {
   "cell_type": "code",
   "execution_count": 9,
   "id": "37381c98",
   "metadata": {
    "execution": {
     "iopub.execute_input": "2024-02-21T06:35:05.891861Z",
     "iopub.status.busy": "2024-02-21T06:35:05.890914Z",
     "iopub.status.idle": "2024-02-21T06:35:05.900393Z",
     "shell.execute_reply": "2024-02-21T06:35:05.898355Z"
    },
    "papermill": {
     "duration": 0.021568,
     "end_time": "2024-02-21T06:35:05.903652",
     "exception": false,
     "start_time": "2024-02-21T06:35:05.882084",
     "status": "completed"
    },
    "tags": []
   },
   "outputs": [
    {
     "data": {
      "application/javascript": [
       "parent.postMessage({\"jupyterEvent\": \"custom.exercise_interaction\", \"data\": {\"interactionType\": 3, \"questionType\": 2, \"questionId\": \"4_ReviewsPerRegion\", \"learnToolsVersion\": \"0.3.4\", \"valueTowardsCompletion\": 0.0, \"failureMessage\": \"\", \"exceptionClass\": \"\", \"trace\": \"\", \"outcomeType\": 4}}, \"*\")"
      ],
      "text/plain": [
       "<IPython.core.display.Javascript object>"
      ]
     },
     "metadata": {},
     "output_type": "display_data"
    },
    {
     "data": {
      "text/markdown": [
       "<span style=\"color:#33cc99\">Solution:</span> \n",
       "```python\n",
       "reviews_per_region = reviews.region_1.fillna('Unknown').value_counts().sort_values(ascending=False)\n",
       "```"
      ],
      "text/plain": [
       "Solution: \n",
       "```python\n",
       "reviews_per_region = reviews.region_1.fillna('Unknown').value_counts().sort_values(ascending=False)\n",
       "```"
      ]
     },
     "metadata": {},
     "output_type": "display_data"
    }
   ],
   "source": [
    "#q4.hint()\n",
    "q4.solution()"
   ]
  },
  {
   "cell_type": "markdown",
   "id": "e31e7c06",
   "metadata": {
    "papermill": {
     "duration": 0.007235,
     "end_time": "2024-02-21T06:35:05.917970",
     "exception": false,
     "start_time": "2024-02-21T06:35:05.910735",
     "status": "completed"
    },
    "tags": []
   },
   "source": [
    "# Keep going\n",
    "\n",
    "Move on to **[renaming and combining](https://www.kaggle.com/residentmario/renaming-and-combining)**."
   ]
  },
  {
   "cell_type": "markdown",
   "id": "c97db6f4",
   "metadata": {
    "papermill": {
     "duration": 0.006882,
     "end_time": "2024-02-21T06:35:05.931377",
     "exception": false,
     "start_time": "2024-02-21T06:35:05.924495",
     "status": "completed"
    },
    "tags": []
   },
   "source": [
    "---\n",
    "\n",
    "\n",
    "\n",
    "\n",
    "*Have questions or comments? Visit the [course discussion forum](https://www.kaggle.com/learn/pandas/discussion) to chat with other learners.*"
   ]
  }
 ],
 "metadata": {
  "kaggle": {
   "accelerator": "none",
   "dataSources": [
    {
     "datasetId": 655,
     "sourceId": 1252,
     "sourceType": "datasetVersion"
    },
    {
     "datasetId": 2321,
     "sourceId": 3919,
     "sourceType": "datasetVersion"
    },
    {
     "datasetId": 2894,
     "sourceId": 4877,
     "sourceType": "datasetVersion"
    },
    {
     "datasetId": 3491,
     "sourceId": 5624,
     "sourceType": "datasetVersion"
    },
    {
     "datasetId": 1442,
     "sourceId": 8172,
     "sourceType": "datasetVersion"
    },
    {
     "datasetId": 9366,
     "sourceId": 13206,
     "sourceType": "datasetVersion"
    },
    {
     "datasetId": 179555,
     "sourceId": 403916,
     "sourceType": "datasetVersion"
    },
    {
     "datasetId": 4549,
     "sourceId": 466349,
     "sourceType": "datasetVersion"
    },
    {
     "datasetId": 2478,
     "sourceId": 1151655,
     "sourceType": "datasetVersion"
    },
    {
     "datasetId": 10128,
     "sourceId": 5438389,
     "sourceType": "datasetVersion"
    }
   ],
   "isGpuEnabled": false,
   "isInternetEnabled": false,
   "language": "python",
   "sourceType": "notebook"
  },
  "kernelspec": {
   "display_name": "Python 3",
   "language": "python",
   "name": "python3"
  },
  "language_info": {
   "codemirror_mode": {
    "name": "ipython",
    "version": 3
   },
   "file_extension": ".py",
   "mimetype": "text/x-python",
   "name": "python",
   "nbconvert_exporter": "python",
   "pygments_lexer": "ipython3",
   "version": "3.10.13"
  },
  "papermill": {
   "default_parameters": {},
   "duration": 8.304382,
   "end_time": "2024-02-21T06:35:06.559825",
   "environment_variables": {},
   "exception": null,
   "input_path": "__notebook__.ipynb",
   "output_path": "__notebook__.ipynb",
   "parameters": {},
   "start_time": "2024-02-21T06:34:58.255443",
   "version": "2.5.0"
  }
 },
 "nbformat": 4,
 "nbformat_minor": 5
}
